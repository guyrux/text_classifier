{
 "cells": [
  {
   "cell_type": "code",
   "execution_count": 2,
   "metadata": {},
   "outputs": [],
   "source": [
    "import os\n",
    "\n",
    "from feature_engine.encoding import OrdinalEncoder\n",
    "import matplotlib.pyplot as plt\n",
    "import numpy as np\n",
    "import pandas as pd\n",
    "import requests\n",
    "import seaborn as sns\n",
    "import spacy\n",
    "\n",
    "os.chdir(\"../\")\n",
    "from src.visualization.visualize import plot_bar_accumulated_line\n",
    "os.chdir(\"./notebooks/\")\n",
    "\n",
    "RAW_FOLDER = '../data/raw/'\n",
    "INTERIM_FOLDER = '../data/interim/'"
   ]
  },
  {
   "cell_type": "markdown",
   "metadata": {},
   "source": [
    "## Taking a look at the data\n",
    "\n",
    "For this experimentation, we will try a simple text classification. But first, we must try to understand how many classes we have and how imbalanced they are."
   ]
  },
  {
   "cell_type": "code",
   "execution_count": 3,
   "metadata": {},
   "outputs": [
    {
     "name": "stdout",
     "output_type": "stream",
     "text": [
      "Using parquet file\n",
      "Number of nulls per feature:\n"
     ]
    },
    {
     "data": {
      "text/plain": [
       "Tags                            2010640\n",
       "Consumer disputed?              1523773\n",
       "Consumer complaint narrative    1496784\n",
       "Company public response         1346931\n",
       "Consumer consent provided?       723261\n",
       "Sub-issue                        632163\n",
       "Sub-product                      235164\n",
       "ZIP code                         221074\n",
       "State                             37959\n",
       "Company response to consumer          1\n",
       "dtype: int64"
      ]
     },
     "execution_count": 3,
     "metadata": {},
     "output_type": "execute_result"
    }
   ],
   "source": [
    "try:\n",
    "    print('Using parquet file')\n",
    "    df = pd.read_parquet(INTERIM_FOLDER+'complaints.pqt')\n",
    "except:\n",
    "    print('Using CSV file')\n",
    "    df = pd.read_csv(RAW_FOLDER+'complaints.csv')\n",
    "    df.to_parquet(INTERIM_FOLDER+'complaints.pqt')\n",
    "\n",
    "print(\"Number of nulls per feature:\")\n",
    "df.isnull().sum()[df.isnull().sum()>=1].sort_values(ascending=False)"
   ]
  },
  {
   "cell_type": "code",
   "execution_count": 4,
   "metadata": {},
   "outputs": [
    {
     "name": "stdout",
     "output_type": "stream",
     "text": [
      "A) Total number of observations: 2292232\n",
      "B) Observations without NaNs: 795448\n",
      "Proportion B/A: 35% \n",
      "\n"
     ]
    },
    {
     "data": {
      "text/html": [
       "<div>\n",
       "<style scoped>\n",
       "    .dataframe tbody tr th:only-of-type {\n",
       "        vertical-align: middle;\n",
       "    }\n",
       "\n",
       "    .dataframe tbody tr th {\n",
       "        vertical-align: top;\n",
       "    }\n",
       "\n",
       "    .dataframe thead th {\n",
       "        text-align: right;\n",
       "    }\n",
       "</style>\n",
       "<table border=\"1\" class=\"dataframe\">\n",
       "  <thead>\n",
       "    <tr style=\"text-align: right;\">\n",
       "      <th></th>\n",
       "      <th>Date received</th>\n",
       "      <th>Consumer complaint narrative</th>\n",
       "      <th>Company</th>\n",
       "      <th>Issue</th>\n",
       "      <th>Product</th>\n",
       "    </tr>\n",
       "  </thead>\n",
       "  <tbody>\n",
       "    <tr>\n",
       "      <th>365538</th>\n",
       "      <td>2021-09-21</td>\n",
       "      <td>Received a call on my mobile; did not answer. ...</td>\n",
       "      <td>CITIBANK, N.A.</td>\n",
       "      <td>Managing an account</td>\n",
       "      <td>Checking or savings account</td>\n",
       "    </tr>\n",
       "    <tr>\n",
       "      <th>139890</th>\n",
       "      <td>2021-09-21</td>\n",
       "      <td>In XXXX and XXXX 2021 I filed a dispute with t...</td>\n",
       "      <td>TRANSUNION INTERMEDIATE HOLDINGS, INC.</td>\n",
       "      <td>Problem with a credit reporting company's inve...</td>\n",
       "      <td>Credit reporting, credit repair services, or o...</td>\n",
       "    </tr>\n",
       "    <tr>\n",
       "      <th>295357</th>\n",
       "      <td>2021-09-21</td>\n",
       "      <td>I am a victim of identity theft. XXXX XXXX XXX...</td>\n",
       "      <td>TRANSUNION INTERMEDIATE HOLDINGS, INC.</td>\n",
       "      <td>Incorrect information on your report</td>\n",
       "      <td>Credit reporting, credit repair services, or o...</td>\n",
       "    </tr>\n",
       "    <tr>\n",
       "      <th>330659</th>\n",
       "      <td>2021-09-21</td>\n",
       "      <td>I have previously submitted several complaints...</td>\n",
       "      <td>TRANSUNION INTERMEDIATE HOLDINGS, INC.</td>\n",
       "      <td>Problem with a credit reporting company's inve...</td>\n",
       "      <td>Credit reporting, credit repair services, or o...</td>\n",
       "    </tr>\n",
       "    <tr>\n",
       "      <th>331225</th>\n",
       "      <td>2021-09-21</td>\n",
       "      <td>I have sent numerous of letters stating facts ...</td>\n",
       "      <td>TRANSUNION INTERMEDIATE HOLDINGS, INC.</td>\n",
       "      <td>Problem with a credit reporting company's inve...</td>\n",
       "      <td>Credit reporting, credit repair services, or o...</td>\n",
       "    </tr>\n",
       "  </tbody>\n",
       "</table>\n",
       "</div>"
      ],
      "text/plain": [
       "       Date received                       Consumer complaint narrative  \\\n",
       "365538    2021-09-21  Received a call on my mobile; did not answer. ...   \n",
       "139890    2021-09-21  In XXXX and XXXX 2021 I filed a dispute with t...   \n",
       "295357    2021-09-21  I am a victim of identity theft. XXXX XXXX XXX...   \n",
       "330659    2021-09-21  I have previously submitted several complaints...   \n",
       "331225    2021-09-21  I have sent numerous of letters stating facts ...   \n",
       "\n",
       "                                       Company  \\\n",
       "365538                          CITIBANK, N.A.   \n",
       "139890  TRANSUNION INTERMEDIATE HOLDINGS, INC.   \n",
       "295357  TRANSUNION INTERMEDIATE HOLDINGS, INC.   \n",
       "330659  TRANSUNION INTERMEDIATE HOLDINGS, INC.   \n",
       "331225  TRANSUNION INTERMEDIATE HOLDINGS, INC.   \n",
       "\n",
       "                                                    Issue  \\\n",
       "365538                                Managing an account   \n",
       "139890  Problem with a credit reporting company's inve...   \n",
       "295357               Incorrect information on your report   \n",
       "330659  Problem with a credit reporting company's inve...   \n",
       "331225  Problem with a credit reporting company's inve...   \n",
       "\n",
       "                                                  Product  \n",
       "365538                        Checking or savings account  \n",
       "139890  Credit reporting, credit repair services, or o...  \n",
       "295357  Credit reporting, credit repair services, or o...  \n",
       "330659  Credit reporting, credit repair services, or o...  \n",
       "331225  Credit reporting, credit repair services, or o...  "
      ]
     },
     "execution_count": 4,
     "metadata": {},
     "output_type": "execute_result"
    }
   ],
   "source": [
    "df_cleaned = df.loc[\n",
    "    ~df[\"Consumer complaint narrative\"].isnull(), [\"Date received\", \"Consumer complaint narrative\", \"Company\", \"Issue\", \"Product\"]\n",
    "    ]\n",
    "\n",
    "df_cleaned.sort_values(by=\"Date received\", ascending=False, inplace=True)\n",
    "\n",
    "print(f\"\"\"A) Total number of observations: {len(df)}\n",
    "B) Observations without NaNs: {len(df_cleaned)}\n",
    "Proportion B/A: {round(100 * len(df_cleaned) / len(df))}% \\n\"\"\")\n",
    "\n",
    "df_cleaned[\"Date received\"] = df_cleaned[\"Date received\"].astype('datetime64[ns]').dt.date\n",
    "df_cleaned.head(5)"
   ]
  },
  {
   "cell_type": "code",
   "execution_count": 5,
   "metadata": {},
   "outputs": [
    {
     "data": {
      "text/html": [
       "<div>\n",
       "<style scoped>\n",
       "    .dataframe tbody tr th:only-of-type {\n",
       "        vertical-align: middle;\n",
       "    }\n",
       "\n",
       "    .dataframe tbody tr th {\n",
       "        vertical-align: top;\n",
       "    }\n",
       "\n",
       "    .dataframe thead th {\n",
       "        text-align: right;\n",
       "    }\n",
       "</style>\n",
       "<table border=\"1\" class=\"dataframe\">\n",
       "  <thead>\n",
       "    <tr style=\"text-align: right;\">\n",
       "      <th></th>\n",
       "      <th>Date received</th>\n",
       "      <th>Consumer complaint narrative</th>\n",
       "      <th>Company</th>\n",
       "      <th>Issue</th>\n",
       "      <th>Product</th>\n",
       "    </tr>\n",
       "  </thead>\n",
       "  <tbody>\n",
       "    <tr>\n",
       "      <th>1798352</th>\n",
       "      <td>2015-09-21</td>\n",
       "      <td>Opened a credit card account in XX/XX/XXXX. In...</td>\n",
       "      <td>JPMORGAN CHASE &amp; CO.</td>\n",
       "      <td>APR or interest rate</td>\n",
       "      <td>Credit card</td>\n",
       "    </tr>\n",
       "    <tr>\n",
       "      <th>1947691</th>\n",
       "      <td>2016-08-02</td>\n",
       "      <td>I have a credit card for our business with 5/3...</td>\n",
       "      <td>FIFTH THIRD FINANCIAL CORPORATION</td>\n",
       "      <td>APR or interest rate</td>\n",
       "      <td>Credit card</td>\n",
       "    </tr>\n",
       "    <tr>\n",
       "      <th>1850494</th>\n",
       "      <td>2015-11-04</td>\n",
       "      <td>I have been a Discover credit card member sinc...</td>\n",
       "      <td>DISCOVER BANK</td>\n",
       "      <td>APR or interest rate</td>\n",
       "      <td>Credit card</td>\n",
       "    </tr>\n",
       "    <tr>\n",
       "      <th>1872829</th>\n",
       "      <td>2016-05-20</td>\n",
       "      <td>XXXX/XXXX/XXXX made a purchase for {$2500.00} ...</td>\n",
       "      <td>CITIBANK, N.A.</td>\n",
       "      <td>APR or interest rate</td>\n",
       "      <td>Credit card</td>\n",
       "    </tr>\n",
       "    <tr>\n",
       "      <th>1851488</th>\n",
       "      <td>2015-12-17</td>\n",
       "      <td>I have been making automated payments for seve...</td>\n",
       "      <td>CITIBANK, N.A.</td>\n",
       "      <td>APR or interest rate</td>\n",
       "      <td>Credit card</td>\n",
       "    </tr>\n",
       "    <tr>\n",
       "      <th>1965147</th>\n",
       "      <td>2017-02-05</td>\n",
       "      <td>I recieved promotional checks from Chase XXXX ...</td>\n",
       "      <td>JPMORGAN CHASE &amp; CO.</td>\n",
       "      <td>APR or interest rate</td>\n",
       "      <td>Credit card</td>\n",
       "    </tr>\n",
       "    <tr>\n",
       "      <th>1826904</th>\n",
       "      <td>2015-06-10</td>\n",
       "      <td>I have a Capital One Credit Card with a promot...</td>\n",
       "      <td>CAPITAL ONE FINANCIAL CORPORATION</td>\n",
       "      <td>APR or interest rate</td>\n",
       "      <td>Credit card</td>\n",
       "    </tr>\n",
       "    <tr>\n",
       "      <th>1934304</th>\n",
       "      <td>2015-08-21</td>\n",
       "      <td>I applied for a credit card with Wells Fargo a...</td>\n",
       "      <td>WELLS FARGO &amp; COMPANY</td>\n",
       "      <td>APR or interest rate</td>\n",
       "      <td>Credit card</td>\n",
       "    </tr>\n",
       "    <tr>\n",
       "      <th>1839816</th>\n",
       "      <td>2017-01-23</td>\n",
       "      <td>This morning I receive an email notification f...</td>\n",
       "      <td>JPMORGAN CHASE &amp; CO.</td>\n",
       "      <td>APR or interest rate</td>\n",
       "      <td>Credit card</td>\n",
       "    </tr>\n",
       "    <tr>\n",
       "      <th>1883782</th>\n",
       "      <td>2015-06-17</td>\n",
       "      <td>I visit a XXXX office XXXX XXXX XXXX. I was to...</td>\n",
       "      <td>SYNCHRONY FINANCIAL</td>\n",
       "      <td>APR or interest rate</td>\n",
       "      <td>Credit card</td>\n",
       "    </tr>\n",
       "  </tbody>\n",
       "</table>\n",
       "</div>"
      ],
      "text/plain": [
       "        Date received                       Consumer complaint narrative  \\\n",
       "1798352    2015-09-21  Opened a credit card account in XX/XX/XXXX. In...   \n",
       "1947691    2016-08-02  I have a credit card for our business with 5/3...   \n",
       "1850494    2015-11-04  I have been a Discover credit card member sinc...   \n",
       "1872829    2016-05-20  XXXX/XXXX/XXXX made a purchase for {$2500.00} ...   \n",
       "1851488    2015-12-17  I have been making automated payments for seve...   \n",
       "1965147    2017-02-05  I recieved promotional checks from Chase XXXX ...   \n",
       "1826904    2015-06-10  I have a Capital One Credit Card with a promot...   \n",
       "1934304    2015-08-21  I applied for a credit card with Wells Fargo a...   \n",
       "1839816    2017-01-23  This morning I receive an email notification f...   \n",
       "1883782    2015-06-17  I visit a XXXX office XXXX XXXX XXXX. I was to...   \n",
       "\n",
       "                                   Company                 Issue      Product  \n",
       "1798352               JPMORGAN CHASE & CO.  APR or interest rate  Credit card  \n",
       "1947691  FIFTH THIRD FINANCIAL CORPORATION  APR or interest rate  Credit card  \n",
       "1850494                      DISCOVER BANK  APR or interest rate  Credit card  \n",
       "1872829                     CITIBANK, N.A.  APR or interest rate  Credit card  \n",
       "1851488                     CITIBANK, N.A.  APR or interest rate  Credit card  \n",
       "1965147               JPMORGAN CHASE & CO.  APR or interest rate  Credit card  \n",
       "1826904  CAPITAL ONE FINANCIAL CORPORATION  APR or interest rate  Credit card  \n",
       "1934304              WELLS FARGO & COMPANY  APR or interest rate  Credit card  \n",
       "1839816               JPMORGAN CHASE & CO.  APR or interest rate  Credit card  \n",
       "1883782                SYNCHRONY FINANCIAL  APR or interest rate  Credit card  "
      ]
     },
     "execution_count": 5,
     "metadata": {},
     "output_type": "execute_result"
    }
   ],
   "source": [
    "df_cleaned.sort_values(by=\"Issue\", inplace=True)\n",
    "df_cleaned.head(10)"
   ]
  },
  {
   "cell_type": "code",
   "execution_count": 6,
   "metadata": {},
   "outputs": [
    {
     "data": {
      "image/png": "[encoded data removed]",
      "text/plain": [
       "<Figure size 576x360 with 2 Axes>"
      ]
     },
     "metadata": {
      "needs_background": "light"
     },
     "output_type": "display_data"
    }
   ],
   "source": [
    "plot_bar_accumulated_line(df=df_cleaned, feature=\"Issue\")"
   ]
  },
  {
   "cell_type": "code",
   "execution_count": 20,
   "metadata": {},
   "outputs": [
    {
     "data": {
      "image/png": "[encoded data removed]",
      "text/plain": [
       "<Figure size 576x360 with 2 Axes>"
      ]
     },
     "metadata": {
      "needs_background": "light"
     },
     "output_type": "display_data"
    }
   ],
   "source": [
    "plot_bar_accumulated_line(df=df_cleaned, feature=\"Product\", threshold=1)"
   ]
  },
  {
   "cell_type": "markdown",
   "metadata": {},
   "source": [
    "### Comments\n",
    "\n",
    "In this notebook, I'm still trying to narrow the problem. As we have so many imbalanced classes on **Issue** and **Product**, I will proceed with the following:\n",
    "\n",
    "1. Create a new feature called \"treated_product\", because there are classes that are similar (e.g.: \"Credit card\" and \"Credit card or prepaid card\")\n",
    "1. Cluster the most rare classes into a \"Other products\" class at **Product** feature;\n",
    "1. Classify the \"treated_product\" using \"Consumer complaint narrative\" as predictor.\n",
    "\n",
    "### 1. Create a new feature called \"treated_product\""
   ]
  },
  {
   "cell_type": "code",
   "execution_count": 8,
   "metadata": {},
   "outputs": [
    {
     "name": "stdout",
     "output_type": "stream",
     "text": [
      "There are 18 unique classes. And they are:\n"
     ]
    },
    {
     "data": {
      "text/plain": [
       "['Bank account or service',\n",
       " 'Checking or savings account',\n",
       " 'Consumer Loan',\n",
       " 'Credit card',\n",
       " 'Credit card or prepaid card',\n",
       " 'Credit reporting',\n",
       " 'Credit reporting, credit repair services, or other personal consumer reports',\n",
       " 'Debt collection',\n",
       " 'Money transfer, virtual currency, or money service',\n",
       " 'Money transfers',\n",
       " 'Mortgage',\n",
       " 'Other financial service',\n",
       " 'Payday loan',\n",
       " 'Payday loan, title loan, or personal loan',\n",
       " 'Prepaid card',\n",
       " 'Student loan',\n",
       " 'Vehicle loan or lease',\n",
       " 'Virtual currency']"
      ]
     },
     "execution_count": 8,
     "metadata": {},
     "output_type": "execute_result"
    }
   ],
   "source": [
    "print(f\"\"\"There are {df_cleaned[\"Product\"].nunique()} unique classes. And they are:\"\"\")\n",
    "\n",
    "sorted(df_cleaned[\"Product\"].unique().tolist())"
   ]
  },
  {
   "cell_type": "markdown",
   "metadata": {},
   "source": [
    "As can be seen, some classes may refer to the same product. As we are trying to simplify the problem I will group similar classes together, but in real life we must be careful with this."
   ]
  },
  {
   "cell_type": "code",
   "execution_count": 21,
   "metadata": {},
   "outputs": [
    {
     "name": "stdout",
     "output_type": "stream",
     "text": [
      "There are 9 unique classes. And they are:\n",
      "['Bank account or service', 'Checking or savings account', 'Credit card', 'Credit reporting', 'Debt collection', 'Money transfer, virtual currency, or money service', 'Mortgage', 'Other financial service', 'Payday loan, title loan, or personal loan']\n"
     ]
    },
    {
     "data": {
      "image/png": "[encoded data removed]",
      "text/plain": [
       "<Figure size 576x360 with 2 Axes>"
      ]
     },
     "metadata": {
      "needs_background": "light"
     },
     "output_type": "display_data"
    }
   ],
   "source": [
    "conditions = [\n",
    "    df_cleaned[\"Product\"]==\"Credit reporting, credit repair services, or other personal consumer reports\",\n",
    "    df_cleaned[\"Product\"].isin([\"Credit card or prepaid card\", \"Prepaid card\"]),\n",
    "    df_cleaned[\"Product\"].isin([\"Consumer Loan\", \"Payday loan\", \"Payday loan, title loan, or personal loan\", \"Student loan\", \"Vehicle loan or lease\"]),\n",
    "    df_cleaned[\"Product\"].isin([\"Money transfers\", \"Virtual currency\"])\n",
    "    ]\n",
    "\n",
    "choices = [\n",
    "    \"Credit reporting\", \"Credit card\", \"Payday loan, title loan, or personal loan\", \"Money transfer, virtual currency, or money service\"\n",
    "    ]\n",
    "\n",
    "df_cleaned[\"Product_revised\"] = np.select(conditions, choices, default=df_cleaned[\"Product\"])\n",
    "\n",
    "print(f\"\"\"There are {df_cleaned[\"Product_revised\"].nunique()} unique classes. And they are:\"\"\")\n",
    "\n",
    "print(sorted(df_cleaned[\"Product_revised\"].unique().tolist()))\n",
    "\n",
    "plot_bar_accumulated_line(df=df_cleaned, feature=\"Product_revised\", threshold=1)"
   ]
  },
  {
   "cell_type": "code",
   "execution_count": 22,
   "metadata": {},
   "outputs": [
    {
     "data": {
      "text/html": [
       "<div>\n",
       "<style scoped>\n",
       "    .dataframe tbody tr th:only-of-type {\n",
       "        vertical-align: middle;\n",
       "    }\n",
       "\n",
       "    .dataframe tbody tr th {\n",
       "        vertical-align: top;\n",
       "    }\n",
       "\n",
       "    .dataframe thead th {\n",
       "        text-align: right;\n",
       "    }\n",
       "</style>\n",
       "<table border=\"1\" class=\"dataframe\">\n",
       "  <thead>\n",
       "    <tr style=\"text-align: right;\">\n",
       "      <th></th>\n",
       "      <th>Date received</th>\n",
       "      <th>Consumer complaint narrative</th>\n",
       "      <th>Company</th>\n",
       "      <th>Issue</th>\n",
       "      <th>Product</th>\n",
       "      <th>Product_revised</th>\n",
       "    </tr>\n",
       "  </thead>\n",
       "  <tbody>\n",
       "    <tr>\n",
       "      <th>1798352</th>\n",
       "      <td>2015-09-21</td>\n",
       "      <td>Opened a credit card account in XX/XX/XXXX. In...</td>\n",
       "      <td>JPMORGAN CHASE &amp; CO.</td>\n",
       "      <td>APR or interest rate</td>\n",
       "      <td>Credit card</td>\n",
       "      <td>Credit card</td>\n",
       "    </tr>\n",
       "    <tr>\n",
       "      <th>1947691</th>\n",
       "      <td>2016-08-02</td>\n",
       "      <td>I have a credit card for our business with 5/3...</td>\n",
       "      <td>FIFTH THIRD FINANCIAL CORPORATION</td>\n",
       "      <td>APR or interest rate</td>\n",
       "      <td>Credit card</td>\n",
       "      <td>Credit card</td>\n",
       "    </tr>\n",
       "    <tr>\n",
       "      <th>1850494</th>\n",
       "      <td>2015-11-04</td>\n",
       "      <td>I have been a Discover credit card member sinc...</td>\n",
       "      <td>DISCOVER BANK</td>\n",
       "      <td>APR or interest rate</td>\n",
       "      <td>Credit card</td>\n",
       "      <td>Credit card</td>\n",
       "    </tr>\n",
       "    <tr>\n",
       "      <th>1872829</th>\n",
       "      <td>2016-05-20</td>\n",
       "      <td>XXXX/XXXX/XXXX made a purchase for {$2500.00} ...</td>\n",
       "      <td>CITIBANK, N.A.</td>\n",
       "      <td>APR or interest rate</td>\n",
       "      <td>Credit card</td>\n",
       "      <td>Credit card</td>\n",
       "    </tr>\n",
       "    <tr>\n",
       "      <th>1851488</th>\n",
       "      <td>2015-12-17</td>\n",
       "      <td>I have been making automated payments for seve...</td>\n",
       "      <td>CITIBANK, N.A.</td>\n",
       "      <td>APR or interest rate</td>\n",
       "      <td>Credit card</td>\n",
       "      <td>Credit card</td>\n",
       "    </tr>\n",
       "  </tbody>\n",
       "</table>\n",
       "</div>"
      ],
      "text/plain": [
       "        Date received                       Consumer complaint narrative  \\\n",
       "1798352    2015-09-21  Opened a credit card account in XX/XX/XXXX. In...   \n",
       "1947691    2016-08-02  I have a credit card for our business with 5/3...   \n",
       "1850494    2015-11-04  I have been a Discover credit card member sinc...   \n",
       "1872829    2016-05-20  XXXX/XXXX/XXXX made a purchase for {$2500.00} ...   \n",
       "1851488    2015-12-17  I have been making automated payments for seve...   \n",
       "\n",
       "                                   Company                 Issue      Product  \\\n",
       "1798352               JPMORGAN CHASE & CO.  APR or interest rate  Credit card   \n",
       "1947691  FIFTH THIRD FINANCIAL CORPORATION  APR or interest rate  Credit card   \n",
       "1850494                      DISCOVER BANK  APR or interest rate  Credit card   \n",
       "1872829                     CITIBANK, N.A.  APR or interest rate  Credit card   \n",
       "1851488                     CITIBANK, N.A.  APR or interest rate  Credit card   \n",
       "\n",
       "        Product_revised  \n",
       "1798352     Credit card  \n",
       "1947691     Credit card  \n",
       "1850494     Credit card  \n",
       "1872829     Credit card  \n",
       "1851488     Credit card  "
      ]
     },
     "execution_count": 22,
     "metadata": {},
     "output_type": "execute_result"
    }
   ],
   "source": [
    "df_cleaned.to_parquet(INTERIM_FOLDER+\"df_cleaned.pqt\")\n",
    "\n",
    "df_cleaned.head()"
   ]
  },
  {
   "cell_type": "code",
   "execution_count": null,
   "metadata": {},
   "outputs": [],
   "source": []
  }
 ],
 "metadata": {
  "interpreter": {
   "hash": "4da693ab18aee1ac73d3379fa5fed5cc46ac8fa49d0a253929d131146eba8376"
  },
  "kernelspec": {
   "display_name": "Python 3.9.7 64-bit ('.venv': pipenv)",
   "name": "python3"
  },
  "language_info": {
   "codemirror_mode": {
    "name": "ipython",
    "version": 3
   },
   "file_extension": ".py",
   "mimetype": "text/x-python",
   "name": "python",
   "nbconvert_exporter": "python",
   "pygments_lexer": "ipython3",
   "version": "3.9.7"
  },
  "orig_nbformat": 4
 },
 "nbformat": 4,
 "nbformat_minor": 2
}
